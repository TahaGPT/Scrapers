{
 "cells": [
  {
   "cell_type": "code",
   "execution_count": null,
   "metadata": {},
   "outputs": [],
   "source": [
    "import selenium\n",
    "from selenium import webdriver\n",
    "from selenium.webdriver.common.by import By\n",
    "from selenium.webdriver.common.keys import Keys\n",
    "import time"
   ]
  },
  {
   "cell_type": "code",
   "execution_count": null,
   "metadata": {},
   "outputs": [],
   "source": [
    "websites = [\n",
    "    'https://www.google.com/',\n",
    "    'https://www.youtube.com/',\n",
    "    'https://stackoverflow.com/',\n",
    "    'https://discord.com/',\n",
    "    'https://open.spotify.com/',\n",
    "    'https://www.reddit.com/'\n",
    "]"
   ]
  },
  {
   "cell_type": "code",
   "execution_count": null,
   "metadata": {},
   "outputs": [],
   "source": [
    "driver = webdriver.Chrome()"
   ]
  },
  {
   "cell_type": "code",
   "execution_count": null,
   "metadata": {},
   "outputs": [],
   "source": [
    "try:\n",
    "    for website in websites:\n",
    "        driver.get(website)\n",
    "        print(f\"Visitng : {website}\")\n",
    "        driver.get(website)\n",
    "        Previous_Height = driver.execute_script(\"return document.body.scrollHeight\")\n",
    "        while True:\n",
    "            driver.execute_script(\"window.scrollTo(0, document.body.scrollHeight - 1000);\")\n",
    "            time.sleep(3)\n",
    "            driver.execute_script(\"window.scrollTo(0, 0);\")\n",
    "            time.sleep(3)\n",
    "            driver.execute_script(\"window.scrollTo(0, document.body.scrollHeight - 1000);\")\n",
    "            time.sleep(3)\n",
    "            New_Height = driver.execute_script(\"return document.body.scrollHeight\")\n",
    "            if New_Height == Previous_Height:\n",
    "                break\n",
    "            Previous_Height = New_Height\n",
    "        time.sleep(3)\n",
    "\n",
    "finally:\n",
    "    driver.quit()"
   ]
  },
  {
   "cell_type": "code",
   "execution_count": null,
   "metadata": {},
   "outputs": [],
   "source": []
  }
 ],
 "metadata": {
  "kernelspec": {
   "display_name": "Python 3",
   "language": "python",
   "name": "python3"
  },
  "language_info": {
   "name": "python",
   "version": "3.10.11"
  }
 },
 "nbformat": 4,
 "nbformat_minor": 2
}
