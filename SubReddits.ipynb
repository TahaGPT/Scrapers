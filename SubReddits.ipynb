{
 "cells": [
  {
   "cell_type": "code",
   "execution_count": 10,
   "id": "initial_id",
   "metadata": {
    "ExecuteTime": {
     "end_time": "2024-08-01T17:39:10.331840Z",
     "start_time": "2024-08-01T17:39:10.316112Z"
    },
    "collapsed": true
   },
   "outputs": [],
   "source": [
    "import praw"
   ]
  },
  {
   "cell_type": "code",
   "execution_count": 11,
   "id": "57074fc4b1fe1c0a",
   "metadata": {
    "ExecuteTime": {
     "end_time": "2024-08-01T17:52:34.324918Z",
     "start_time": "2024-08-01T17:52:34.290928Z"
    },
    "collapsed": false
   },
   "outputs": [
    {
     "name": "stdout",
     "output_type": "stream",
     "text": [
      "True\n"
     ]
    }
   ],
   "source": [
    "reddit = praw.Reddit(client_id='P4-FFLW065bTLnGSqfCnlg', client_secret='-EBrPckd7kwt0b8OaxJ-5cfwYRExQw', user_agent='MyRedditScraper/1.0 (Macintosh; Intel Mac OS X 14.3.1; Apple Silicon) Python/3.10 (fasihrem@gmail.com)')"
   ]
  },
  {
   "cell_type": "markdown",
   "id": "730188ed",
   "metadata": {},
   "source": [
    "Add more SubReddits if you want"
   ]
  },
  {
   "cell_type": "code",
   "execution_count": 13,
   "id": "6264312d9830ad80",
   "metadata": {
    "ExecuteTime": {
     "end_time": "2024-08-01T18:15:17.136949Z",
     "start_time": "2024-08-01T18:15:16.103625Z"
    },
    "collapsed": false
   },
   "outputs": [],
   "source": [
    "def mySubReddits() -> list:\n",
    "    return  ['politics', 'worldnews', 'science', 'movies', 'aww', 'gaming', 'Music', 'funny', 'explainlikeimfive', 'pics', 'videos', 'pakistan', 'AskReddit', 'mildlyinfuriating', 'AmItheAsshole', 'BMW', 'memes', 'Showerthoughts', 'ZyadaKuchNai']\n",
    "    \n"
   ]
  },
  {
   "cell_type": "code",
   "execution_count": 31,
   "id": "a32d48f5",
   "metadata": {},
   "outputs": [],
   "source": [
    "def scrapeData(post):\n",
    "    print(f\"Post : {post}\")\n",
    "\n",
    "\n",
    "    try: \n",
    "        title = post.title\n",
    "    except:\n",
    "        title = \"\"\n",
    "\n",
    "    print(f\"Title : {title}\")\n",
    "\n",
    "\n",
    "    try:\n",
    "        author = post.author\n",
    "    except:\n",
    "        author = \"\"\n",
    "\n",
    "    print(f\"Author : {author}\")\n",
    "\n",
    "\n",
    "    try:\n",
    "        score = post.score\n",
    "    except:\n",
    "        score = 0\n",
    "\n",
    "    print(f\"Upvotes : {score}\")\n",
    "\n",
    "\n",
    "    try:\n",
    "        created = post.created_utc\n",
    "    except:\n",
    "        created = 0\n",
    "\n",
    "    print(f\"Date : {created}\")\n",
    "\n",
    "\n",
    "    print(f\"ID : {post}\")\n",
    "\n",
    "\n",
    "    try:\n",
    "        commentCount = post.num_comments\n",
    "    except:\n",
    "        commentCount = 0\n",
    "\n",
    "    print(f\"Number of Comments : {commentCount}\")\n",
    "\n",
    "\n",
    "    try:\n",
    "        comments = post.comments[:5]\n",
    "    except:\n",
    "        comments = []\n",
    "\n",
    "    print(\"Comments : \")\n",
    "    for comment in comments:\n",
    "        print(comment)\n",
    "\n",
    "\n",
    "    try:\n",
    "        picture = post.url\n",
    "        if not picture.endswith(('.jpg', '.jpeg', '.png', '.gif')):\n",
    "            picture = ''\n",
    "    except:\n",
    "            picture = ''\n",
    "\n",
    "    print(f\"Picture : {picture}\")\n",
    "\n",
    "\n",
    "    try:\n",
    "        video = post.media['reddit_video']['fallback_url']\n",
    "    except:\n",
    "        video = \"\"\n",
    "\n",
    "    print(f\"Video : {video}\")\n",
    "\n",
    "\n",
    "    try:\n",
    "        subreddit = post.subreddit\n",
    "    except:\n",
    "        subreddit = \"\"\n",
    "\n",
    "    print(f\"Subreddit : {subreddit}\")\n",
    "\n",
    "\n",
    "    try:\n",
    "        url = post.submission.url\n",
    "    except:\n",
    "        url = \"\"\n",
    "\n",
    "    print(f\"Url : {url}\\n\\n\")\n",
    "\n",
    "\n",
    "\n"
   ]
  },
  {
   "cell_type": "code",
   "execution_count": null,
   "id": "8495b6093380bf42",
   "metadata": {
    "collapsed": false
   },
   "outputs": [],
   "source": [
    "info = {\n",
    "        'Author': [],\n",
    "        'SubReddit': [],\n",
    "        'Score': [],\n",
    "        'Date': [],\n",
    "        'CommentCount': [],\n",
    "        'Title': [],\n",
    "        'Comments': [],\n",
    "        'Picture': [],\n",
    "        'Video': [],\n",
    "        'Url': []\n",
    "}\n",
    "\n",
    "subreddits = reddit.mySubReddits()\n",
    "\n",
    "for subreddit in subreddits:\n",
    "    topPosts = subreddit.top(limit = 100)\n",
    "    for post in topPosts:\n",
    "        scrapeData(post, info)"
   ]
  },
  {
   "cell_type": "code",
   "execution_count": 32,
   "id": "03a1a3de",
   "metadata": {},
   "outputs": [
    {
     "name": "stdout",
     "output_type": "stream",
     "text": [
      "Post : b1ifpf\n",
      "Title : Naeem Rashid, the Man who tried to stop the shooter from killing other Muslims in today's New Zealand mosque attack has been identified as a Pakistani originating from Abottabad.\n",
      "Author : Shahnaseebbabar\n",
      "Upvotes : 6432\n",
      "Date : 1552674814.0\n",
      "ID : b1ifpf\n",
      "Number of Comments : 317\n",
      "Comments : \n",
      "eilynmz\n",
      "eimft4z\n",
      "eim5k7k\n",
      "eimdub3\n",
      "eim2f5d\n",
      "Picture : https://i.redd.it/bfa4wlqctbm21.png\n",
      "Video : \n",
      "Subreddit : pakistan\n",
      "Url : \n",
      "\n",
      "\n",
      "Post : rnq59x\n",
      "Title : Chad Pakistani\n",
      "Author : Negative_Banana_7732\n",
      "Upvotes : 3542\n",
      "Date : 1640364919.0\n",
      "ID : rnq59x\n",
      "Number of Comments : 864\n",
      "Comments : \n",
      "hptsfan\n",
      "hpu0uml\n",
      "hpty6zi\n",
      "hpugdz3\n",
      "hptv9nc\n",
      "Picture : \n",
      "Video : https://v.redd.it/fde8ir7kti781/DASH_720.mp4?source=fallback\n",
      "Subreddit : pakistan\n",
      "Url : \n",
      "\n",
      "\n",
      "Post : i6s9gv\n",
      "Title : Since no one shared this. Elders and more sensible people from the tribe replanted the trees that people had destroyed in the morning yday.\n",
      "Author : Sohaib224\n",
      "Upvotes : 2274\n",
      "Date : 1597010867.0\n",
      "ID : i6s9gv\n",
      "Number of Comments : 104\n",
      "Comments : \n",
      "g0xonmd\n",
      "g0xu4r9\n",
      "g0xyzm2\n",
      "g0xw734\n",
      "g0yayix\n",
      "Picture : \n",
      "Video : https://v.redd.it/i123pmimv1g51/DASH_240.mp4?source=fallback\n",
      "Subreddit : pakistan\n",
      "Url : \n",
      "\n",
      "\n",
      "Post : hee83w\n",
      "Title : Hey fellow Pakistanis! I am a professional album cover artist and illustrator. Wanted to share my work here :D\n",
      "Author : lenafay\n",
      "Upvotes : 2076\n",
      "Date : 1592917416.0\n",
      "ID : hee83w\n",
      "Number of Comments : 224\n",
      "Comments : \n",
      "fvqy74p\n",
      "fvrjmrq\n",
      "fvqqqvp\n",
      "fvr1ifq\n",
      "fvroz80\n",
      "Picture : https://i.imgur.com/lvU1ngk.jpg\n",
      "Video : \n",
      "Subreddit : pakistan\n",
      "Url : \n",
      "\n",
      "\n",
      "Post : 1ahs7q8\n",
      "Title : this is rock bottom a mockery of justice\n",
      "Author : shobijatoi19\n",
      "Upvotes : 1883\n",
      "Date : 1706951966.0\n",
      "ID : 1ahs7q8\n",
      "Number of Comments : 343\n",
      "Comments : \n",
      "koq24zs\n",
      "kopw6pn\n",
      "koq4wux\n",
      "kopxs1r\n",
      "kopzeww\n",
      "Picture : https://i.redd.it/g5vzkzwj8cgc1.jpeg\n",
      "Video : \n",
      "Subreddit : pakistan\n",
      "Url : \n",
      "\n",
      "\n"
     ]
    }
   ],
   "source": [
    "subreddit = reddit.subreddit(\"pakistan\")\n",
    "topPosts = subreddit.top(limit = 5)\n",
    "for post in topPosts:\n",
    "    scrapeData(post)\n"
   ]
  }
 ],
 "metadata": {
  "kernelspec": {
   "display_name": "Python 3",
   "language": "python",
   "name": "python3"
  },
  "language_info": {
   "codemirror_mode": {
    "name": "ipython",
    "version": 3
   },
   "file_extension": ".py",
   "mimetype": "text/x-python",
   "name": "python",
   "nbconvert_exporter": "python",
   "pygments_lexer": "ipython3",
   "version": "3.11.9"
  }
 },
 "nbformat": 4,
 "nbformat_minor": 5
}
