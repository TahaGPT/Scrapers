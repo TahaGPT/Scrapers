{
 "cells": [
  {
   "cell_type": "code",
   "execution_count": 2,
   "metadata": {},
   "outputs": [],
   "source": [
    "import requests as req\n",
    "from bs4 import BeautifulSoup as bsp\n",
    "import pandas as pd\n",
    "import time\n",
    "from selenium import webdriver\n",
    "import requests\n",
    "from selenium.webdriver.edge.service import Service as EdgeService\n",
    "from selenium.webdriver.edge.options import Options as EdgeOptions\n",
    "from selenium.webdriver.firefox.service import Service\n",
    "from selenium.webdriver.firefox.options import Options\n",
    "from fake_useragent import UserAgent\n",
    "\n",
    "base = 'https://www.amazon.com'"
   ]
  },
  {
   "cell_type": "code",
   "execution_count": null,
   "metadata": {},
   "outputs": [],
   "source": [
    "# session = requests.Session()\n",
    "# session.headers.update({\"User-Agent\": UserAgent().random})\n",
    "driver = webdriver.Chrome()\n",
    "# driver = webdriver.Firefox(service = service, options = options)\n",
    "driver.get(base)\n",
    "#   It will scroll to right above the footer of the page then scoll to the top then back to the bottom untill there is no new items being loaded\n",
    "driver.execute_script(\"window.scrollTo(0, document.body.scrollHeight);\")\n",
    "time.sleep(10) \n",
    "html = driver.page_source\n",
    "driver.quit()          \n",
    "soup = bsp(html, 'lxml')\n",
    "boxes = soup.find_all('a', class_ = 'a-link-normal _fluid-quad-image-label-v2_style_centerImage__30wh- aok-block image-window')\n",
    "print(boxes)\n",
    "links = []\n",
    "categ = []\n",
    "for box in boxes:\n",
    "    actual = box.get('href')\n",
    "    link = base + actual\n",
    "    print(link)\n",
    "    links.append(link)\n",
    "    som = box.get('aria-label')\n",
    "    categ.append(som)\n",
    "    print(som)\n",
    "return links, som"
   ]
  },
  {
   "cell_type": "code",
   "execution_count": null,
   "metadata": {},
   "outputs": [],
   "source": []
  }
 ],
 "metadata": {
  "kernelspec": {
   "display_name": "Python 3",
   "language": "python",
   "name": "python3"
  },
  "language_info": {
   "codemirror_mode": {
    "name": "ipython",
    "version": 3
   },
   "file_extension": ".py",
   "mimetype": "text/x-python",
   "name": "python",
   "nbconvert_exporter": "python",
   "pygments_lexer": "ipython3",
   "version": "3.11.9"
  }
 },
 "nbformat": 4,
 "nbformat_minor": 2
}
